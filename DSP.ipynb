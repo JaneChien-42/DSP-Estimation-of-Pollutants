{
 "cells": [
  {
   "cell_type": "code",
   "execution_count": 1,
   "id": "cd60ece3",
   "metadata": {},
   "outputs": [],
   "source": [
    "import pandas as pd\n",
    "import numpy as np\n",
    "from pulp import *"
   ]
  },
  {
   "cell_type": "code",
   "execution_count": 2,
   "id": "8c54dacb",
   "metadata": {},
   "outputs": [],
   "source": [
    "year = '2010'\n",
    "df = pd.read_excel(open('RawData_Price.xlsx', 'rb'), sheet_name=year)\n",
    "X_df = df[['Coal']]\n",
    "X = X_df.to_numpy(dtype=np.float64)\n",
    "Y_df = df[['Electricity']]\n",
    "Y = Y_df.to_numpy(dtype=np.float64)\n",
    "B_df = df[['CO2 Emission', 'SO2 Emission', 'NOX Emission']]\n",
    "B = B_df.to_numpy(dtype=np.float64)\n",
    "P_df = df[['Price']]\n",
    "P = P_df.to_numpy(dtype=np.float64)"
   ]
  },
  {
   "cell_type": "code",
   "execution_count": 3,
   "id": "e150ce82",
   "metadata": {},
   "outputs": [],
   "source": [
    "I = [i for i in range(1)]\n",
    "J = [j for j in range(1)]\n",
    "Q = [q for q in range(3)]\n",
    "K = [k for k in range(48)]\n",
    "R = [r for r in range(48)]\n",
    "\n",
    "Q_star = [0, 1, 2] \n",
    "Q_no_star = [] "
   ]
  },
  {
   "cell_type": "markdown",
   "id": "f90ff828",
   "metadata": {},
   "source": [
    "## Step 1: DEA with direction"
   ]
  },
  {
   "cell_type": "code",
   "execution_count": 4,
   "id": "07dde641",
   "metadata": {},
   "outputs": [],
   "source": [
    "def DDEA(Xr, Yr, Br, gY, gB):\n",
    "    Eff = LpVariable('eff', lowBound=None, upBound=None, cat='Continuous')\n",
    "    _lambda = LpVariable.dicts('_lambda', (K), lowBound=0, upBound=None, cat='Continuous')\n",
    "    _mu = LpVariable.dicts('_mu', (K), lowBound=0, upBound=None, cat='Continuous')\n",
    "\n",
    "    model1 = LpProblem('model1', LpMaximize)\n",
    "    \n",
    "    # Objective function\n",
    "    model1 += Eff\n",
    "\n",
    "    # Constraints\n",
    "    # I Constraint\n",
    "    model1 += lpSum((_lambda[k]+_mu[k])*X[k] for k in K) <= Xr\n",
    "    # GO Constraint\n",
    "    model1 += lpSum(_lambda[k]*Y[k] for k in K) >= Yr + Eff*gY\n",
    "    # BO Constraint\n",
    "    for q in Q_star:\n",
    "        model1 += lpSum(_lambda[k]*B[k,q] for k in K) <= Br[q] - Eff*gB[q]\n",
    "    # Convex\n",
    "    model1 += lpSum(_lambda[k]+_mu[k] for k in K) == 1\n",
    "\n",
    "    # solve \n",
    "#     solver = getSolver('GUROBI')\n",
    "    model1.solve()\n",
    "    return (LpStatus[model1.status], value(model1.objective))"
   ]
  },
  {
   "cell_type": "code",
   "execution_count": 5,
   "id": "30da79e0",
   "metadata": {},
   "outputs": [
    {
     "data": {
      "text/plain": [
       "[7767.9383,\n",
       " 60569.461,\n",
       " 70811.596,\n",
       " 0.0,\n",
       " 0.0,\n",
       " 56300.116,\n",
       " 0.0,\n",
       " 9999.7009,\n",
       " 23502.641,\n",
       " 49749.129,\n",
       " 762.0201,\n",
       " 96084.735,\n",
       " 0.0,\n",
       " 56997.825,\n",
       " 35450.439,\n",
       " 40598.513,\n",
       " 72341.29,\n",
       " 24129.791,\n",
       " 0.0,\n",
       " 13527.484,\n",
       " 0.0,\n",
       " 138201.75,\n",
       " 71330.499,\n",
       " 30826.461,\n",
       " 35538.306,\n",
       " 9516.5743,\n",
       " 0.0,\n",
       " 153155.97,\n",
       " 108659.62,\n",
       " 6761.2675,\n",
       " 8237.611,\n",
       " 0.0,\n",
       " 8797.0948,\n",
       " 32750.38,\n",
       " 0.0,\n",
       " 138523.14,\n",
       " 25097.822,\n",
       " 0.0,\n",
       " 0.0,\n",
       " 41409.11,\n",
       " 14624.839,\n",
       " 0.0,\n",
       " 0.0,\n",
       " 81674.501,\n",
       " 0.0,\n",
       " 57444.86,\n",
       " 0.0,\n",
       " 86438.445]"
      ]
     },
     "execution_count": 5,
     "metadata": {},
     "output_type": "execute_result"
    }
   ],
   "source": [
    "a = 0.5\n",
    "g_Coal = 0\n",
    "g_Elec = 1*a\n",
    "g_CO2, g_SO2, g_NOX = .048*(1-a), .508*(1-a), .444*(1-a)\n",
    "g_B = [g_CO2, g_SO2, g_NOX]\n",
    "result = []\n",
    "for r in R:\n",
    "    Xr, Yr = X[r,0], Y[r,0]\n",
    "    Br = B[r]\n",
    "    result.append(DDEA(Xr, Yr, Br, g_Elec, g_B))\n",
    "\n",
    "_Eff_ = [result[k][1] for k in K]\n",
    "_Eff_"
   ]
  },
  {
   "cell_type": "markdown",
   "id": "c081cdfc",
   "metadata": {},
   "source": [
    "## Step 2: Poject to frontier $Y+\\eta g^Y$、$B-\\eta g^B$"
   ]
  },
  {
   "cell_type": "code",
   "execution_count": 6,
   "id": "db9dc937",
   "metadata": {},
   "outputs": [],
   "source": [
    "g_B = np.array(g_B)\n",
    "_ftY_ = np.array([Y[k]+_Eff_[k]*g_Elec for k in K])\n",
    "_ftB_ = np.array([B[k]-(_Eff_[k]*g_B) for k in K])"
   ]
  },
  {
   "cell_type": "code",
   "execution_count": 7,
   "id": "3d237712",
   "metadata": {},
   "outputs": [],
   "source": [
    "# Normalize\n",
    "NX = X[:,0] / max(X[:,0])\n",
    "NY = Y[:,0] / max(Y[:,0])\n",
    "NB = (np.array([B[:,0]/max(B[:,0]), B[:,1]/max(B[:,1]), B[:,2]/max(B[:,2])])).T\n",
    "\n",
    "_NftY_ = _ftY_[:,0] / max(_ftY_[:,0])\n",
    "_NftB_ = (np.array([_ftB_[:,0]/max(_ftB_[:,0]), _ftB_[:,1]/max(_ftB_[:,1]), _ftB_[:,2]/max(_ftB_[:,2])])).T"
   ]
  },
  {
   "cell_type": "markdown",
   "id": "34f4bd23",
   "metadata": {},
   "source": [
    "## Step 3: DMP"
   ]
  },
  {
   "cell_type": "code",
   "execution_count": 8,
   "id": "2c36dc7a",
   "metadata": {},
   "outputs": [],
   "source": [
    "def DDEA_Dual(NX, NY, NB, NXr, NftYr, NftBr, gY, gB):\n",
    "    v = LpVariable('v', lowBound=0, upBound=None, cat='Continuous')\n",
    "    u = LpVariable('u', lowBound=0, upBound=None, cat='Continuous')\n",
    "    u0 = LpVariable('u0', lowBound=None, upBound=None, cat='Continuous')\n",
    "    w = LpVariable.dicts('w', (Q), lowBound=None, upBound=None, cat='Continuous')\n",
    "\n",
    "    model2 = LpProblem('model2', LpMinimize)\n",
    "    \n",
    "    # Objective function\n",
    "    model2 += v\n",
    "\n",
    "    # Constraints\n",
    "    model2 += v*NXr - u*NftYr + lpSum(w[q]*NftBr[q] for q in Q_star) + u0 == 0\n",
    "    for k in K:\n",
    "        nb = NB[k]\n",
    "        model2 += v*NX[k] - u*NY[k] + lpSum(w[q]*nb[q] for q in Q_star) + u0 >= 0\n",
    "        model2 += v*NX[k] +u0 >= 0\n",
    "    model2 += u*gY + lpSum(w[q]*gB[q] for q in Q_star) == 1\n",
    "\n",
    "    # solve \n",
    "#     solver = getSolver('GUROBI')\n",
    "    model2.solve()\n",
    "    return (LpStatus[model2.status], value(model2.objective))"
   ]
  },
  {
   "cell_type": "code",
   "execution_count": 9,
   "id": "2f08c427",
   "metadata": {},
   "outputs": [
    {
     "data": {
      "text/plain": [
       "[0.0,\n",
       " 0.0,\n",
       " 0.0,\n",
       " 0.0,\n",
       " 0.99390919,\n",
       " 0.0,\n",
       " 0.0,\n",
       " 0.0,\n",
       " 0.0,\n",
       " 0.0,\n",
       " 1.089585,\n",
       " 0.0,\n",
       " 0.0,\n",
       " 0.0,\n",
       " 0.53404268,\n",
       " 0.0,\n",
       " 0.19426866,\n",
       " 0.0,\n",
       " 0.0,\n",
       " 0.0,\n",
       " 0.96916407,\n",
       " 0.0,\n",
       " 0.0,\n",
       " 0.0,\n",
       " 0.0,\n",
       " 0.0,\n",
       " 0.26800151,\n",
       " 0.0,\n",
       " 0.0,\n",
       " 0.0,\n",
       " 0.0,\n",
       " 0.0,\n",
       " 0.38943173,\n",
       " 0.0,\n",
       " 0.0,\n",
       " 0.0,\n",
       " 0.0,\n",
       " 0.0,\n",
       " 0.0,\n",
       " 0.0,\n",
       " 0.0,\n",
       " 0.0,\n",
       " 0.0,\n",
       " 0.0,\n",
       " 0.0,\n",
       " 0.0,\n",
       " 0.0,\n",
       " 0.0]"
      ]
     },
     "execution_count": 9,
     "metadata": {},
     "output_type": "execute_result"
    }
   ],
   "source": [
    "# GMP\n",
    "result2 = []\n",
    "for r in R:\n",
    "    NXr = NX[r]\n",
    "    NftYr = _NftY_[r]\n",
    "    NftBr = _NftB_[r]\n",
    "    result2.append(DDEA_Dual(NX, NY, NB, NXr, NftYr, NftBr, 1, [0,0,0]))\n",
    "\n",
    "_GMPv = [result2[k][1] for k in K]\n",
    "_GMPv"
   ]
  },
  {
   "cell_type": "code",
   "execution_count": 10,
   "id": "7f465207",
   "metadata": {},
   "outputs": [
    {
     "data": {
      "text/plain": [
       "[0.0,\n",
       " 0.0,\n",
       " 0.0,\n",
       " 0.0,\n",
       " 0.10367704,\n",
       " 0.0,\n",
       " 0.0,\n",
       " 0.0,\n",
       " 0.0,\n",
       " 0.0,\n",
       " 4.1955885,\n",
       " 0.0,\n",
       " 0.0,\n",
       " 0.0,\n",
       " 4.8743917,\n",
       " 0.0,\n",
       " 0.98592516,\n",
       " 0.0,\n",
       " 0.0,\n",
       " 0.0,\n",
       " 2.2966938,\n",
       " 0.0,\n",
       " 0.0,\n",
       " 0.0,\n",
       " 0.0,\n",
       " 0.0,\n",
       " 8.5150393,\n",
       " 0.0,\n",
       " 0.0,\n",
       " 0.0,\n",
       " 0.0,\n",
       " 0.0,\n",
       " 0.41558733,\n",
       " 0.0,\n",
       " 0.0,\n",
       " 0.0,\n",
       " 0.0,\n",
       " 0.0,\n",
       " 0.0,\n",
       " 0.0,\n",
       " 0.0,\n",
       " 0.0,\n",
       " 0.0,\n",
       " 0.0,\n",
       " 0.0,\n",
       " 0.0,\n",
       " 0.0,\n",
       " 0.0]"
      ]
     },
     "execution_count": 10,
     "metadata": {},
     "output_type": "execute_result"
    }
   ],
   "source": [
    "# BMP\n",
    "result3 = []\n",
    "for r in R:\n",
    "    NXr = NX[r]\n",
    "    NftYr = _NftY_[r]\n",
    "    NftBr = _NftB_[r]\n",
    "    result3.append(DDEA_Dual(NX, NY, NB, NXr, NftYr, NftBr, 0, [.048,.508,.444]))\n",
    "\n",
    "_BMPv = [result3[k][1] for k in K]\n",
    "_BMPv"
   ]
  },
  {
   "cell_type": "code",
   "execution_count": 11,
   "id": "eb19f4f3",
   "metadata": {},
   "outputs": [],
   "source": [
    "# MP\n",
    "g = np.array([1*max(Y[:,0]), .048*max(B[:,0]), .508*max(B[:,1]), .444*max(B[:,2])])\n",
    "_DMP_ = []\n",
    "for r in R:\n",
    "    nv = _BMPv[r]/max(X[:,0])\n",
    "    _DMP_.append([g[0]*_GMPv[r]/max(X[:,0]), g[1]*nv, g[2]*nv, g[3]*nv])\n",
    "#     _DMP_.append(g*(_v_[r]/max(X[:,0])))\n",
    "_DMP_ = np.array(_DMP_)"
   ]
  },
  {
   "cell_type": "code",
   "execution_count": 12,
   "id": "18599560",
   "metadata": {},
   "outputs": [
    {
     "data": {
      "text/plain": [
       "array([[0.00000000e+00, 0.00000000e+00, 0.00000000e+00, 0.00000000e+00],\n",
       "       [0.00000000e+00, 0.00000000e+00, 0.00000000e+00, 0.00000000e+00],\n",
       "       [0.00000000e+00, 0.00000000e+00, 0.00000000e+00, 0.00000000e+00],\n",
       "       [0.00000000e+00, 0.00000000e+00, 0.00000000e+00, 0.00000000e+00],\n",
       "       [1.44744117e+00, 7.46228864e-03, 2.98258099e-04, 5.32774647e-05],\n",
       "       [0.00000000e+00, 0.00000000e+00, 0.00000000e+00, 0.00000000e+00],\n",
       "       [0.00000000e+00, 0.00000000e+00, 0.00000000e+00, 0.00000000e+00],\n",
       "       [0.00000000e+00, 0.00000000e+00, 0.00000000e+00, 0.00000000e+00],\n",
       "       [0.00000000e+00, 0.00000000e+00, 0.00000000e+00, 0.00000000e+00],\n",
       "       [0.00000000e+00, 0.00000000e+00, 0.00000000e+00, 0.00000000e+00],\n",
       "       [1.58677493e+00, 3.01982892e-01, 1.20698686e-02, 2.15602527e-03],\n",
       "       [0.00000000e+00, 0.00000000e+00, 0.00000000e+00, 0.00000000e+00],\n",
       "       [0.00000000e+00, 0.00000000e+00, 0.00000000e+00, 0.00000000e+00],\n",
       "       [0.00000000e+00, 0.00000000e+00, 0.00000000e+00, 0.00000000e+00],\n",
       "       [7.77732382e-01, 3.50840628e-01, 1.40226496e-02, 2.50484805e-03],\n",
       "       [0.00000000e+00, 0.00000000e+00, 0.00000000e+00, 0.00000000e+00],\n",
       "       [2.82915642e-01, 7.09632347e-02, 2.83630941e-03, 5.06646340e-04],\n",
       "       [0.00000000e+00, 0.00000000e+00, 0.00000000e+00, 0.00000000e+00],\n",
       "       [0.00000000e+00, 0.00000000e+00, 0.00000000e+00, 0.00000000e+00],\n",
       "       [0.00000000e+00, 0.00000000e+00, 0.00000000e+00, 0.00000000e+00],\n",
       "       [1.41140457e+00, 1.65307498e-01, 6.60712852e-03, 1.18022296e-03],\n",
       "       [0.00000000e+00, 0.00000000e+00, 0.00000000e+00, 0.00000000e+00],\n",
       "       [0.00000000e+00, 0.00000000e+00, 0.00000000e+00, 0.00000000e+00],\n",
       "       [0.00000000e+00, 0.00000000e+00, 0.00000000e+00, 0.00000000e+00],\n",
       "       [0.00000000e+00, 0.00000000e+00, 0.00000000e+00, 0.00000000e+00],\n",
       "       [0.00000000e+00, 0.00000000e+00, 0.00000000e+00, 0.00000000e+00],\n",
       "       [3.90293624e-01, 6.12880933e-01, 2.44960643e-02, 4.37570079e-03],\n",
       "       [0.00000000e+00, 0.00000000e+00, 0.00000000e+00, 0.00000000e+00],\n",
       "       [0.00000000e+00, 0.00000000e+00, 0.00000000e+00, 0.00000000e+00],\n",
       "       [0.00000000e+00, 0.00000000e+00, 0.00000000e+00, 0.00000000e+00],\n",
       "       [0.00000000e+00, 0.00000000e+00, 0.00000000e+00, 0.00000000e+00],\n",
       "       [0.00000000e+00, 0.00000000e+00, 0.00000000e+00, 0.00000000e+00],\n",
       "       [5.67133824e-01, 2.99124340e-02, 1.19556159e-03, 2.13561646e-04],\n",
       "       [0.00000000e+00, 0.00000000e+00, 0.00000000e+00, 0.00000000e+00],\n",
       "       [0.00000000e+00, 0.00000000e+00, 0.00000000e+00, 0.00000000e+00],\n",
       "       [0.00000000e+00, 0.00000000e+00, 0.00000000e+00, 0.00000000e+00],\n",
       "       [0.00000000e+00, 0.00000000e+00, 0.00000000e+00, 0.00000000e+00],\n",
       "       [0.00000000e+00, 0.00000000e+00, 0.00000000e+00, 0.00000000e+00],\n",
       "       [0.00000000e+00, 0.00000000e+00, 0.00000000e+00, 0.00000000e+00],\n",
       "       [0.00000000e+00, 0.00000000e+00, 0.00000000e+00, 0.00000000e+00],\n",
       "       [0.00000000e+00, 0.00000000e+00, 0.00000000e+00, 0.00000000e+00],\n",
       "       [0.00000000e+00, 0.00000000e+00, 0.00000000e+00, 0.00000000e+00],\n",
       "       [0.00000000e+00, 0.00000000e+00, 0.00000000e+00, 0.00000000e+00],\n",
       "       [0.00000000e+00, 0.00000000e+00, 0.00000000e+00, 0.00000000e+00],\n",
       "       [0.00000000e+00, 0.00000000e+00, 0.00000000e+00, 0.00000000e+00],\n",
       "       [0.00000000e+00, 0.00000000e+00, 0.00000000e+00, 0.00000000e+00],\n",
       "       [0.00000000e+00, 0.00000000e+00, 0.00000000e+00, 0.00000000e+00],\n",
       "       [0.00000000e+00, 0.00000000e+00, 0.00000000e+00, 0.00000000e+00]])"
      ]
     },
     "execution_count": 12,
     "metadata": {},
     "output_type": "execute_result"
    }
   ],
   "source": [
    "_DMP_"
   ]
  },
  {
   "cell_type": "markdown",
   "id": "134f9c99",
   "metadata": {},
   "source": [
    "## Step 4: SP"
   ]
  },
  {
   "cell_type": "code",
   "execution_count": 13,
   "id": "e1a428c9",
   "metadata": {},
   "outputs": [],
   "source": [
    "# SP\n",
    "CO2_SP = []\n",
    "SO2_SP = []\n",
    "NOX_SP = []\n",
    "states = []\n",
    "for r in R:\n",
    "    if(_DMP_[r,0]*_DMP_[r,1] > 0):\n",
    "        states.append(r)\n",
    "        CO2_SP.append(tuple(['State '+str(r+1), P[r,0]*(_DMP_[r,0]/_DMP_[r,1])]))\n",
    "        SO2_SP.append(tuple(['State '+str(r+1), P[r,0]*(_DMP_[r,0]/_DMP_[r,2])]))\n",
    "        NOX_SP.append(tuple(['State '+str(r+1), P[r,0]*(_DMP_[r,0]/_DMP_[r,3])]))\n",
    "    "
   ]
  },
  {
   "cell_type": "code",
   "execution_count": 14,
   "id": "65b22411",
   "metadata": {},
   "outputs": [
    {
     "data": {
      "text/plain": [
       "[('State 5', 25236.48742766957),\n",
       " ('State 11', 1319.7472918463866),\n",
       " ('State 15', 169.97654840216578),\n",
       " ('State 17', 268.43864157387753),\n",
       " ('State 21', 1096.400979505637),\n",
       " ('State 27', 55.19168067016959),\n",
       " ('State 33', 1844.6232868718735)]"
      ]
     },
     "execution_count": 14,
     "metadata": {},
     "output_type": "execute_result"
    }
   ],
   "source": [
    "CO2_SP"
   ]
  },
  {
   "cell_type": "code",
   "execution_count": 15,
   "id": "e51f3c2a",
   "metadata": {},
   "outputs": [
    {
     "data": {
      "text/plain": [
       "[('State 5', 631405.9996600309),\n",
       " ('State 11', 33019.50639902645),\n",
       " ('State 15', 4252.7397194333635),\n",
       " ('State 17', 6716.218701834867),\n",
       " ('State 21', 27431.47827038625),\n",
       " ('State 27', 1380.871977779978),\n",
       " ('State 33', 46151.67676490945)]"
      ]
     },
     "execution_count": 15,
     "metadata": {},
     "output_type": "execute_result"
    }
   ],
   "source": [
    "SO2_SP"
   ]
  },
  {
   "cell_type": "code",
   "execution_count": 16,
   "id": "cef3447e",
   "metadata": {},
   "outputs": [
    {
     "data": {
      "text/plain": [
       "[('State 5', 3534739.399408474),\n",
       " ('State 11', 184849.92268128955),\n",
       " ('State 15', 23807.703204917812),\n",
       " ('State 17', 37598.760343110705),\n",
       " ('State 21', 153567.00297203346),\n",
       " ('State 27', 7730.40260628833),\n",
       " ('State 33', 258366.48732753046)]"
      ]
     },
     "execution_count": 16,
     "metadata": {},
     "output_type": "execute_result"
    }
   ],
   "source": [
    "NOX_SP"
   ]
  },
  {
   "cell_type": "code",
   "execution_count": 17,
   "id": "8ed8f0f9",
   "metadata": {},
   "outputs": [
    {
     "name": "stdout",
     "output_type": "stream",
     "text": [
      "===== Result the shadow price in 2010 =====\n",
      "CO2 = 349.0204562020728\n",
      "SO2 = 8732.340849006176\n",
      "NOX = 48885.4227939958\n"
     ]
    }
   ],
   "source": [
    "i = 0\n",
    "ttl_C = 0\n",
    "ttl_S = 0\n",
    "ttl_N = 0\n",
    "Sum = 0\n",
    "for state in states:\n",
    "    ttl_C += X[state][0]*CO2_SP[i][1]\n",
    "    ttl_S += X[state][0]*SO2_SP[i][1]\n",
    "    ttl_N += X[state][0]*NOX_SP[i][1]\n",
    "    Sum += X[state][0]\n",
    "    i += 1\n",
    "CO2SP, SO2SP, NOXSP = ttl_C/Sum, ttl_S/Sum, ttl_N/Sum\n",
    "CO2SP, SO2SP, NOXSP = CO2SP/1.10231131092, SO2SP/1.10231131092, NOXSP/1.10231131092\n",
    "\n",
    "print('===== Result the shadow price in '+year+' =====')\n",
    "print('CO2 = '+str(CO2SP))\n",
    "print('SO2 = '+str(SO2SP))\n",
    "print('NOX = '+str(NOXSP))"
   ]
  }
 ],
 "metadata": {
  "kernelspec": {
   "display_name": "Python 3",
   "language": "python",
   "name": "python3"
  },
  "language_info": {
   "codemirror_mode": {
    "name": "ipython",
    "version": 3
   },
   "file_extension": ".py",
   "mimetype": "text/x-python",
   "name": "python",
   "nbconvert_exporter": "python",
   "pygments_lexer": "ipython3",
   "version": "3.7.1"
  }
 },
 "nbformat": 4,
 "nbformat_minor": 5
}
