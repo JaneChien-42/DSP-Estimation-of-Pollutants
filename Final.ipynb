{
  "nbformat": 4,
  "nbformat_minor": 0,
  "metadata": {
    "colab": {
      "name": "Final",
      "provenance": [],
      "collapsed_sections": [],
      "authorship_tag": "ABX9TyNYq3bKXlDGOLLOHUy0085U",
      "include_colab_link": true
    },
    "kernelspec": {
      "name": "python3",
      "display_name": "Python 3"
    },
    "language_info": {
      "name": "python"
    }
  },
  "cells": [
    {
      "cell_type": "markdown",
      "metadata": {
        "id": "view-in-github",
        "colab_type": "text"
      },
      "source": [
        "<a href=\"https://colab.research.google.com/github/JaneChien-42/DSP-Estimation-of-Pollutants/blob/master/Final.ipynb\" target=\"_parent\"><img src=\"https://colab.research.google.com/assets/colab-badge.svg\" alt=\"Open In Colab\"/></a>"
      ]
    },
    {
      "cell_type": "markdown",
      "metadata": {
        "id": "zP5OyJ8iZWa7"
      },
      "source": [
        "# ORA Final"
      ]
    },
    {
      "cell_type": "markdown",
      "metadata": {
        "id": "_Cc1SM6mpywQ"
      },
      "source": [
        "# import packages"
      ]
    },
    {
      "cell_type": "code",
      "metadata": {
        "colab": {
          "base_uri": "https://localhost:8080/"
        },
        "id": "398XWYHLzUjy",
        "outputId": "034fb832-7c71-4f8c-b475-2afe5f7a2276"
      },
      "source": [
        "!pip install pulp"
      ],
      "execution_count": null,
      "outputs": [
        {
          "output_type": "stream",
          "text": [
            "Collecting pulp\n",
            "\u001b[?25l  Downloading https://files.pythonhosted.org/packages/14/c4/0eec14a0123209c261de6ff154ef3be5cad3fd557c084f468356662e0585/PuLP-2.4-py3-none-any.whl (40.6MB)\n",
            "\u001b[K     |████████████████████████████████| 40.6MB 69kB/s \n",
            "\u001b[?25hCollecting amply>=0.1.2\n",
            "  Downloading https://files.pythonhosted.org/packages/f3/c5/dfa09dd2595a2ab2ab4e6fa7bebef9565812722e1980d04b0edce5032066/amply-0.1.4-py3-none-any.whl\n",
            "Requirement already satisfied: docutils>=0.3 in /usr/local/lib/python3.7/dist-packages (from amply>=0.1.2->pulp) (0.17.1)\n",
            "Requirement already satisfied: pyparsing in /usr/local/lib/python3.7/dist-packages (from amply>=0.1.2->pulp) (2.4.7)\n",
            "Installing collected packages: amply, pulp\n",
            "Successfully installed amply-0.1.4 pulp-2.4\n"
          ],
          "name": "stdout"
        }
      ]
    },
    {
      "cell_type": "code",
      "metadata": {
        "id": "-WSMmioeDZkV"
      },
      "source": [
        "import pandas as pd\n",
        "import numpy as np\n",
        "from pulp import *"
      ],
      "execution_count": null,
      "outputs": []
    },
    {
      "cell_type": "markdown",
      "metadata": {
        "id": "qVoDh22Qp3ai"
      },
      "source": [
        "# Data"
      ]
    },
    {
      "cell_type": "markdown",
      "metadata": {
        "id": "slOv6Jeiqc_U"
      },
      "source": [
        "## Read Data from Excel File"
      ]
    },
    {
      "cell_type": "code",
      "metadata": {
        "colab": {
          "base_uri": "https://localhost:8080/"
        },
        "id": "mmNbCwlczhMU",
        "outputId": "7dbb1d3d-6864-4cea-e8db-7512161728bb"
      },
      "source": [
        "!gdown --id '154saZVv_PLhgnSuk616EDuE582sCagmW' --output data.xlsx  # RawData.xlsx(with Price)"
      ],
      "execution_count": null,
      "outputs": [
        {
          "output_type": "stream",
          "text": [
            "Downloading...\n",
            "From: https://drive.google.com/uc?id=154saZVv_PLhgnSuk616EDuE582sCagmW\n",
            "To: /content/data.xlsx\n",
            "\r  0% 0.00/107k [00:00<?, ?B/s]\r100% 107k/107k [00:00<00:00, 38.2MB/s]\n"
          ],
          "name": "stdout"
        }
      ]
    },
    {
      "cell_type": "code",
      "metadata": {
        "id": "2ABGrS2SE5WJ"
      },
      "source": [
        "writer = pd.ExcelWriter('result.xlsx')\n",
        "result_DSP = pd.DataFrame()"
      ],
      "execution_count": null,
      "outputs": []
    },
    {
      "cell_type": "markdown",
      "metadata": {
        "id": "J-j67ON0qWaU"
      },
      "source": [
        "## Raw Data"
      ]
    },
    {
      "cell_type": "code",
      "metadata": {
        "id": "GfQaQfEBz0rJ",
        "colab": {
          "base_uri": "https://localhost:8080/"
        },
        "outputId": "4c532340-f6de-4bf1-e15a-4b7c45f923aa"
      },
      "source": [
        "year = '2014'\n",
        "data = pd.read_excel('data.xlsx', sheet_name=year) # read .xlsx data\n",
        "\n",
        "X = data['Coal'].to_numpy().T\n",
        "Y = data['Electricity'].to_numpy().T\n",
        "B = data[['CO2 Emission','SO2 Emission','NOX Emission']].to_numpy().T\n",
        "Price = data['Price'].to_numpy().T\n",
        "\n",
        "print(\"X:\",X,\"\\nY:\",Y,\"\\nB:\",B)\n",
        "print(\"Price:\",Price)\n"
      ],
      "execution_count": null,
      "outputs": [
        {
          "output_type": "stream",
          "text": [
            "X: [   486750  23913177  19295415  22911006    290444  17769138    499319\n",
            "    397113  22835149  22759871    743893  20548980     18445  52197770\n",
            "  48560035  18198644  39213757  12632193   1248316   7450504     18887\n",
            "  29529977  16799805  42966689   6550473  10186850  19495782  22342245\n",
            "  15427283    543854   1060529  11913479   3445862   2220949  38485647\n",
            "  18933951   1853491  38126571  11751519   1780371  17746768 101657503\n",
            "  15312350   9281350   4486482  21334043  31918484  26492657] \n",
            "Y: [5.58292180e+05 4.73016262e+07 3.32207548e+07 4.26650106e+07\n",
            " 8.04759570e+05 3.25448489e+07 8.24947890e+05 8.65384240e+05\n",
            " 5.20536891e+07 4.52951133e+07 1.51118382e+06 3.37327654e+07\n",
            " 7.76712700e+04 8.72823904e+07 9.75487385e+07 2.87522822e+07\n",
            " 8.36019612e+07 1.92210190e+07 2.79488900e+06 1.76032909e+07\n",
            " 7.91039200e+04 5.28998442e+07 2.79566792e+07 7.24092121e+07\n",
            " 1.07425658e+07 1.55794154e+07 4.92381969e+07 2.73940682e+07\n",
            " 2.49221749e+07 1.31099873e+06 2.51910621e+06 2.03556313e+07\n",
            " 6.54786359e+06 4.59205411e+06 8.98790516e+07 2.99059518e+07\n",
            " 3.19259303e+06 7.89856286e+07 2.89143068e+07 2.68921574e+06\n",
            " 3.58745820e+07 1.48173726e+08 3.33766877e+07 2.08185843e+07\n",
            " 6.71992825e+06 3.74492644e+07 7.75146451e+07 4.34086510e+07] \n",
            "B: [[  1298243  46990269  32636812  42324735   1930995  33027270    884229\n",
            "     955168  51307530  45250853   1608611  38150654    420544  93281915\n",
            "   97559285  30457807  82729345  20109128   2773777  18071330    199866\n",
            "   54456042  30053158  73655698  10807173  16616682  46327216  30212493\n",
            "   26074715   1387132   2867840  20350833   6832527   5083957  86570953\n",
            "   32183939   3081746  77442621  27848504   2870210  38379371 151751904\n",
            "   31366938  22507506   7393759  39257719  73115307  46713951]\n",
            " [     2429    112650     68893     20403      1144     25772       823\n",
            "        682     90607     63619       719     66402      1900    170027\n",
            "     268740     28574    181171     57630      2928     32959       508\n",
            "     142371     30860    135560     82210     12930     39859     47807\n",
            "      58006      1965      2175     10899      9221     19780    297830\n",
            "      67934      6736    254548     27558     12555     72987    303785\n",
            "      21342     50788      3050     63183     92878     41394]\n",
            " [     2595     40598     34357     41846       980     36399       532\n",
            "        293     37865     33581      1293     33834      1080     44141\n",
            "      98259     22580     75192     13947      1964     10475       253\n",
            "      47834     26525     68029     13049     17349     34518     43754\n",
            "      23227      1704      2177     37397      7559      6989     79505\n",
            "      29701      3036    108237     13507      9530     19057     87278\n",
            "      48951     19493      7224     24492     65831     40915]]\n",
            "Price: [174.56057   92.673715  79.025739 101.76485  151.49517  100.55281\n",
            " 170.46739  112.20684  107.65897  100.2554   334.28432   81.506533\n",
            "  79.259927  93.585603  90.574177 101.5814    81.501544  80.941923\n",
            " 153.54558  121.0144   126.50293  110.32415   95.183242  91.136779\n",
            "  96.008568  85.873748  93.302642  84.138516  88.390679 152.20362\n",
            " 139.48471   96.539172  97.253856 162.51759   97.299343  81.795043\n",
            "  86.827968 102.78761   96.665609  90.506233  93.969958  89.388493\n",
            "  83.535327  91.743492  71.258844 105.69451   76.530557  77.647197]\n"
          ],
          "name": "stdout"
        }
      ]
    },
    {
      "cell_type": "markdown",
      "metadata": {
        "id": "r2qK1H1yqukQ"
      },
      "source": [
        "# Define"
      ]
    },
    {
      "cell_type": "code",
      "metadata": {
        "id": "LajNWatg8L7z"
      },
      "source": [
        "num = 48    # number of states\n",
        "num_X = 1   # number of input items\n",
        "num_Y = 1   # number of good output items\n",
        "num_B = 3   # number of bad output items\n",
        "\n",
        "Eff = np.zeros(num)\n",
        "\n",
        "alpha_g = np.zeros(num)\n",
        "alpha_b = np.zeros(num)\n",
        "\n",
        "I = []  # Input\n",
        "J = []  # Good Output\n",
        "Q = []  # Bad Output\n",
        "K = []  # Stats\n",
        "\n",
        "for i in range(num_X):\n",
        "  I.append(i)\n",
        "for j in range(num_Y):\n",
        "  J.append(j)\n",
        "for q in range(num_B):\n",
        "  Q.append(q)\n",
        "for k in range(num):\n",
        "  K.append(k)"
      ],
      "execution_count": null,
      "outputs": []
    },
    {
      "cell_type": "markdown",
      "metadata": {
        "id": "1qpmsmjtqEQQ"
      },
      "source": [
        "# DEA"
      ]
    },
    {
      "cell_type": "code",
      "metadata": {
        "colab": {
          "base_uri": "https://localhost:8080/"
        },
        "id": "oyB9M_AKXzaq",
        "outputId": "e91ea642-8fe1-49b0-f8c3-c6acd8d75374"
      },
      "source": [
        "g_Y = 0.25\n",
        "# g_B = [0.3,0.3,0.3]\n",
        "g_B = [0.048 * 0.75, 0.508 * 0.75, 0.444 * 0.75]\n",
        "def DEA(r):\n",
        "  prob_DEA = LpProblem(\"DEA\", LpMaximize)\n",
        "  \n",
        "  eta = LpVariable(\"eta\", lowBound=None)\n",
        "  lamda = LpVariable.dicts(\"lamda\", K, lowBound=0)\n",
        "  mu = LpVariable.dicts(\"mu\", K, lowBound=0)\n",
        "\n",
        "  # Objective Function\n",
        "  prob_DEA += eta\n",
        "  # I-Constraint\n",
        "  prob_DEA += lpSum([(lamda[k]+mu[k]) * X[k] for k in range(len(K))]) <= X[r]\n",
        "  # GO-Constraint\n",
        "  prob_DEA += lpSum([lamda[k] * Y[k] for k in range(len(K))]) >= Y[r] + g_Y * eta\n",
        "  # BO-Constraint\n",
        "  for q in range(len(Q)):\n",
        "    prob_DEA += lpSum([lamda[k] * B[q][k] for k in range(len(K))]) <= B[q][r] - g_B[q] * eta\n",
        "  # Convex\n",
        "  prob_DEA += lpSum([lamda[k]+mu[k] for k in range(len(K))]) == 1\n",
        "\n",
        "  prob_DEA.solve()\n",
        "\n",
        "  # print(\"Status:\", LpStatus[prob_DEA.status])\n",
        "\n",
        "#   for v in prob_DEA.variables():\n",
        "#       print(v.name, \"=\", v.varValue)\n",
        "  print(r+1, 'Eff=','%.10f'%value(prob_DEA.objective))\n",
        "  Eff[r]=value(prob_DEA.objective)\n",
        "DEA(0)"
      ],
      "execution_count": null,
      "outputs": [
        {
          "output_type": "stream",
          "text": [
            "1 Eff= 5708.5512000000\n"
          ],
          "name": "stdout"
        }
      ]
    },
    {
      "cell_type": "code",
      "metadata": {
        "colab": {
          "base_uri": "https://localhost:8080/"
        },
        "id": "wBYD1vMqY08G",
        "outputId": "7a52f99f-0cb4-49fe-900e-aefad8e75bef"
      },
      "source": [
        "for r in range(num):\n",
        "  DEA(r)"
      ],
      "execution_count": null,
      "outputs": [
        {
          "output_type": "stream",
          "text": [
            "1 Eff= 5708.5512000000\n",
            "2 Eff= 44375.0910000000\n",
            "3 Eff= 55607.8520000000\n",
            "4 Eff= 0.0000000000\n",
            "5 Eff= 0.0000000000\n",
            "6 Eff= 20887.6570000000\n",
            "7 Eff= 502.7546400000\n",
            "8 Eff= 0.0000000000\n",
            "9 Eff= 12401.4610000000\n",
            "10 Eff= 23668.5330000000\n",
            "11 Eff= 0.0000000000\n",
            "12 Eff= 53426.6130000000\n",
            "13 Eff= 0.0000000000\n",
            "14 Eff= 0.0000000000\n",
            "15 Eff= 58317.3960000000\n",
            "16 Eff= 14008.0710000000\n",
            "17 Eff= 33959.8810000000\n",
            "18 Eff= 15029.4010000000\n",
            "19 Eff= 1467.0030000000\n",
            "20 Eff= 6894.5018000000\n",
            "21 Eff= 0.0000000000\n",
            "22 Eff= 64220.8310000000\n",
            "23 Eff= 24232.9040000000\n",
            "24 Eff= 71057.1210000000\n",
            "25 Eff= 24324.1480000000\n",
            "26 Eff= 10946.8670000000\n",
            "27 Eff= 0.0000000000\n",
            "28 Eff= 73080.4300000000\n",
            "29 Eff= 34824.6650000000\n",
            "30 Eff= 2412.2786000000\n",
            "31 Eff= 827.7285300000\n",
            "32 Eff= 3148.3000000000\n",
            "33 Eff= 10653.3350000000\n",
            "34 Eff= 14830.6270000000\n",
            "35 Eff= 0.0000000000\n",
            "36 Eff= 47049.1590000000\n",
            "37 Eff= 4652.0823000000\n",
            "38 Eff= 152198.5100000000\n",
            "39 Eff= 0.0000000000\n",
            "40 Eff= 25149.6130000000\n",
            "41 Eff= 5694.3264000000\n",
            "42 Eff= 0.0000000000\n",
            "43 Eff= 0.0000000000\n",
            "44 Eff= 29418.8410000000\n",
            "45 Eff= 0.0000000000\n",
            "46 Eff= 19528.3380000000\n",
            "47 Eff= 0.0000000000\n",
            "48 Eff= 25025.5560000000\n"
          ],
          "name": "stdout"
        }
      ]
    },
    {
      "cell_type": "code",
      "metadata": {
        "colab": {
          "base_uri": "https://localhost:8080/"
        },
        "id": "2oqcfzBYvdpL",
        "outputId": "bd34ef48-ec15-4dcb-9aac-2426631134b0"
      },
      "source": [
        "print(Eff)"
      ],
      "execution_count": null,
      "outputs": [
        {
          "output_type": "stream",
          "text": [
            "[  5708.5512   44375.091    55607.852        0.           0.\n",
            "  20887.657      502.75464      0.       12401.461    23668.533\n",
            "      0.       53426.613        0.           0.       58317.396\n",
            "  14008.071    33959.881    15029.401     1467.003     6894.5018\n",
            "      0.       64220.831    24232.904    71057.121    24324.148\n",
            "  10946.867        0.       73080.43     34824.665     2412.2786\n",
            "    827.72853   3148.3      10653.335    14830.627        0.\n",
            "  47049.159     4652.0823  152198.51         0.       25149.613\n",
            "   5694.3264       0.           0.       29418.841        0.\n",
            "  19528.338        0.       25025.556  ]\n"
          ],
          "name": "stdout"
        }
      ]
    },
    {
      "cell_type": "markdown",
      "metadata": {
        "id": "p_mxWekGrgRB"
      },
      "source": [
        "# Frontier Data"
      ]
    },
    {
      "cell_type": "code",
      "metadata": {
        "colab": {
          "base_uri": "https://localhost:8080/"
        },
        "id": "xxIMAziKrkhT",
        "outputId": "fef7b27c-cc43-4694-a559-13fcd8b0c551"
      },
      "source": [
        "Y_F = np.zeros(num)\n",
        "B_F = np.zeros((3, num))\n",
        "# print(B_F)\n",
        "for i in range(num):\n",
        "    Y_F[i] = Y[i] + g_Y * Eff[i]\n",
        "    # Y_F[i] = Y_N[i] + g_Y * Eff[i]\n",
        "for i in range(num_B):\n",
        "    for j in range(num):\n",
        "        B_F[i][j] = B[i][j] - g_B[i] * Eff[j]\n",
        "        # B_F[i][j] = B_N[i][j] - g_B[i] * Eff[j]\n",
        "print(\"Y_F:\",Y_F)\n",
        "print(\"B_F:\",B_F)"
      ],
      "execution_count": null,
      "outputs": [
        {
          "output_type": "stream",
          "text": [
            "Y_F: [5.59719318e+05 4.73127200e+07 3.32346568e+07 4.26650106e+07\n",
            " 8.04759570e+05 3.25500708e+07 8.25073579e+05 8.65384240e+05\n",
            " 5.20567895e+07 4.53010305e+07 1.51118382e+06 3.37461220e+07\n",
            " 7.76712700e+04 8.72823904e+07 9.75633179e+07 2.87557842e+07\n",
            " 8.36104511e+07 1.92247764e+07 2.79525575e+06 1.76050145e+07\n",
            " 7.91039200e+04 5.29158994e+07 2.79627374e+07 7.24269764e+07\n",
            " 1.07486469e+07 1.55821522e+07 4.92381969e+07 2.74123383e+07\n",
            " 2.49308811e+07 1.31160180e+06 2.51931314e+06 2.03564184e+07\n",
            " 6.55052692e+06 4.59576177e+06 8.98790516e+07 2.99177141e+07\n",
            " 3.19375605e+06 7.90236782e+07 2.89143068e+07 2.69550314e+06\n",
            " 3.58760056e+07 1.48173726e+08 3.33766877e+07 2.08259390e+07\n",
            " 6.71992825e+06 3.74541464e+07 7.75146451e+07 4.34149074e+07]\n",
            "B_F: [[1.29803749e+06 4.69886715e+07 3.26348101e+07 4.23247350e+07\n",
            "  1.93099500e+06 3.30265180e+07 8.84210901e+05 9.55168000e+05\n",
            "  5.13070835e+07 4.52500009e+07 1.60861100e+06 3.81487306e+07\n",
            "  4.20544000e+05 9.32819150e+07 9.75571856e+07 3.04573027e+07\n",
            "  8.27281224e+07 2.01085869e+07 2.77372419e+06 1.80710818e+07\n",
            "  1.99866000e+05 5.44537301e+07 3.00522856e+07 7.36531399e+07\n",
            "  1.08062973e+07 1.66162879e+07 4.63272160e+07 3.02098621e+07\n",
            "  2.60734613e+07 1.38704516e+06 2.86781020e+06 2.03507197e+07\n",
            "  6.83214348e+06 5.08342310e+06 8.65709530e+07 3.21822452e+07\n",
            "  3.08157853e+06 7.74371419e+07 2.78485040e+07 2.86930461e+06\n",
            "  3.83791660e+07 1.51751904e+08 3.13669380e+07 2.25064469e+07\n",
            "  7.39375900e+06 3.92570160e+07 7.31153070e+07 4.67130501e+07]\n",
            " [2.54041993e+02 9.57430903e+04 4.77064084e+04 2.04030000e+04\n",
            "  1.14400000e+03 1.78138027e+04 6.31450482e+02 6.82000000e+02\n",
            "  8.58820434e+04 5.46012889e+04 7.19000000e+02 4.60464604e+04\n",
            "  1.90000000e+03 1.70027000e+05 2.46521072e+05 2.32369249e+04\n",
            "  1.68232285e+05 5.19037982e+04 2.36907186e+03 3.03321948e+04\n",
            "  5.08000000e+02 1.17902863e+05 2.16272636e+04 1.08487237e+05\n",
            "  7.29424996e+04 8.75924367e+03 3.98590000e+04 1.99633562e+04\n",
            "  4.47378026e+04 1.04592185e+03 1.85963543e+03 9.69949770e+03\n",
            "  5.16207936e+03 1.41295311e+04 2.97830000e+05 5.00082704e+04\n",
            "  4.96355664e+03 1.96560368e+05 2.75580000e+04 2.97299745e+03\n",
            "  7.08174616e+04 3.03785000e+05 2.13420000e+04 3.95794216e+04\n",
            "  3.05000000e+03 5.57427032e+04 9.28780000e+04 3.18592632e+04]\n",
            " [6.94052450e+02 2.58210947e+04 1.58395853e+04 4.18460000e+04\n",
            "  9.80000000e+02 2.94434102e+04 3.64582705e+02 2.93000000e+02\n",
            "  3.37353135e+04 2.56993785e+04 1.29300000e+03 1.60429379e+04\n",
            "  1.08000000e+03 4.41410000e+04 7.88393071e+04 1.79153124e+04\n",
            "  6.38833596e+04 8.94220947e+03 1.47548800e+03 8.17913090e+03\n",
            "  2.53000000e+02 2.64484633e+04 1.84554430e+04 4.43669787e+04\n",
            "  4.94905872e+03 1.37036933e+04 3.45180000e+04 1.94182168e+04\n",
            "  1.16303866e+04 9.00711226e+02 1.90136640e+03 3.63486161e+04\n",
            "  4.01143944e+03 2.05040121e+03 7.95050000e+04 1.40336301e+04\n",
            "  1.48685659e+03 5.75548962e+04 1.35070000e+04 1.15517887e+03\n",
            "  1.71607893e+04 8.72780000e+04 4.89510000e+04 9.69652595e+03\n",
            "  7.22400000e+03 1.79890634e+04 6.58310000e+04 3.25814899e+04]]\n"
          ],
          "name": "stdout"
        }
      ]
    },
    {
      "cell_type": "markdown",
      "metadata": {
        "id": "qndzkAREuNvh"
      },
      "source": [
        "# Max Value of Each Column"
      ]
    },
    {
      "cell_type": "code",
      "metadata": {
        "id": "_MMuU_VyqKvb",
        "colab": {
          "base_uri": "https://localhost:8080/"
        },
        "outputId": "e3f25b1d-36d7-4043-f170-6b26505910f1"
      },
      "source": [
        "max_X = X.max()\n",
        "max_Y = Y.max()\n",
        "max_B = [B[0].max(),B[1].max(),B[2].max()]\n",
        "\n",
        "max_Y_F = Y_F.max()\n",
        "max_B_F = [B_F[0].max(),B_F[1].max(),B_F[2].max()]\n",
        "\n",
        "print(\"max_X:\", max_X)\n",
        "print(\"max_Y:\", max_Y)\n",
        "print(\"max_B:\", max_B)\n",
        "print(\"max_Y_F:\", max_Y_F)\n",
        "print(\"max_B_F:\", max_B_F)"
      ],
      "execution_count": null,
      "outputs": [
        {
          "output_type": "stream",
          "text": [
            "max_X: 101657503\n",
            "max_Y: 148173726.4\n",
            "max_B: [151751904, 303785, 108237]\n",
            "max_Y_F: 148173726.4\n",
            "max_B_F: [151751904.0, 303785.0, 87278.0]\n"
          ],
          "name": "stdout"
        }
      ]
    },
    {
      "cell_type": "markdown",
      "metadata": {
        "id": "iMOT0ajZqJb6"
      },
      "source": [
        "# DMP -- Good Output"
      ]
    },
    {
      "cell_type": "markdown",
      "metadata": {
        "id": "_mcHXKznJKDE"
      },
      "source": [
        "## v(alpha)"
      ]
    },
    {
      "cell_type": "code",
      "metadata": {
        "colab": {
          "base_uri": "https://localhost:8080/"
        },
        "id": "6oeiAADKJMvt",
        "outputId": "fcf167b7-abd1-42de-c31d-630202c00e0a"
      },
      "source": [
        "g_Y_g = 1\n",
        "g_B_g = [0,0,0]\n",
        "def GMP(r):\n",
        "    prob_GMP = LpProblem(\"GMP\", LpMinimize)\n",
        "\n",
        "    u_0 = LpVariable(\"u_0\", lowBound=None)\n",
        "    v = LpVariable(\"v\", lowBound=0)\n",
        "    u = LpVariable(\"u\", lowBound=0)\n",
        "    w = LpVariable.dicts(\"w\", Q, lowBound=None)\n",
        "\n",
        "    # Objective Function\n",
        "    prob_GMP += v\n",
        "    # Constraints\n",
        "    prob_GMP += v * X[r]/max_X - u * Y_F[r]/max_Y_F + lpSum([w[q] * B_F[q][r]/max_B_F[q] for q in range(len(Q))]) + u_0 == 0\n",
        "    for k in range(len(K)):\n",
        "        prob_GMP += v * X[k]/max_X - u * Y[k]/max_Y + lpSum([w[q] * B[q][k]/max_B[q] for q in range(len(Q))]) + u_0 >= 0\n",
        "        prob_GMP += v * X[k]/max_X + u_0 >= 0\n",
        "    prob_GMP += u * g_Y_g + lpSum([w[q] * g_B_g[q] for q in range(len(Q))]) == 1\n",
        "    prob_GMP.solve()\n",
        "\n",
        "    # 查看目前解的狀態\n",
        "    print(\"Status:\", LpStatus[prob_GMP.status])\n",
        "\n",
        "    # 印出解及目標值\n",
        "    # for v in prob_GMP.variables():\n",
        "    #     print(v.name, \"=\", v.varValue)\n",
        "    print(r+1,' %.10f'%value(prob_GMP.objective))\n",
        "    alpha_g[r] = value(prob_GMP.objective)\n",
        "GMP(0)"
      ],
      "execution_count": null,
      "outputs": [
        {
          "output_type": "stream",
          "text": [
            "Status: Optimal\n",
            "1  0.0000000000\n"
          ],
          "name": "stdout"
        }
      ]
    },
    {
      "cell_type": "code",
      "metadata": {
        "colab": {
          "base_uri": "https://localhost:8080/"
        },
        "id": "bwqlvnzRKB4M",
        "outputId": "ebc9b484-cc11-47e2-ffb2-f258209da4e7"
      },
      "source": [
        "for r in range(num):\n",
        "    GMP(r)\n",
        "print(alpha_g)"
      ],
      "execution_count": null,
      "outputs": [
        {
          "output_type": "stream",
          "text": [
            "Status: Optimal\n",
            "1  0.0000000000\n",
            "Status: Infeasible\n",
            "2  0.0000000000\n",
            "Status: Infeasible\n",
            "3  0.0000000000\n",
            "Status: Optimal\n",
            "4  0.0000000000\n",
            "Status: Optimal\n",
            "5  1.2973363000\n",
            "Status: Infeasible\n",
            "6  0.0000000000\n",
            "Status: Infeasible\n",
            "7  0.0000000000\n",
            "Status: Infeasible\n",
            "8  2.2302996000\n",
            "Status: Infeasible\n",
            "9  0.0000000000\n",
            "Status: Infeasible\n",
            "10  0.0000000000\n",
            "Status: Optimal\n",
            "11  0.0954111610\n",
            "Status: Optimal\n",
            "12  0.0000000000\n",
            "Status: Optimal\n",
            "13  0.8492506100\n",
            "Status: Infeasible\n",
            "14  0.6005407600\n",
            "Status: Optimal\n",
            "15  0.0000000000\n",
            "Status: Infeasible\n",
            "16  0.0000000000\n",
            "Status: Infeasible\n",
            "17  0.9800353700\n",
            "Status: Optimal\n",
            "18  0.0000000000\n",
            "Status: Infeasible\n",
            "19  82.5462220000\n",
            "Status: Optimal\n",
            "20  4.6937316000\n",
            "Status: Optimal\n",
            "21  0.8943105000\n",
            "Status: Infeasible\n",
            "22  0.2107731500\n",
            "Status: Infeasible\n",
            "23  0.0000000000\n",
            "Status: Infeasible\n",
            "24  0.0000000000\n",
            "Status: Optimal\n",
            "25  0.0000000000\n",
            "Status: Infeasible\n",
            "26  0.0000000000\n",
            "Status: Optimal\n",
            "27  0.0000000000\n",
            "Status: Optimal\n",
            "28  0.0000000000\n",
            "Status: Infeasible\n",
            "29  0.0000000000\n",
            "Status: Optimal\n",
            "30  1.1568149000\n",
            "Status: Optimal\n",
            "31  1.1238347000\n",
            "Status: Optimal\n",
            "32  0.0000000000\n",
            "Status: Infeasible\n",
            "33  0.0000000000\n",
            "Status: Optimal\n",
            "34  0.0000000000\n",
            "Status: Optimal\n",
            "35  0.0000000000\n",
            "Status: Infeasible\n",
            "36  0.0000000000\n",
            "Status: Infeasible\n",
            "37  0.0000000000\n",
            "Status: Infeasible\n",
            "38  0.0000000000\n",
            "Status: Infeasible\n",
            "39  51.7651240000\n",
            "Status: Infeasible\n",
            "40  0.0000000000\n",
            "Status: Infeasible\n",
            "41  1.7697455000\n",
            "Status: Optimal\n",
            "42  0.0000000000\n",
            "Status: Optimal\n",
            "43  0.0000000000\n",
            "Status: Optimal\n",
            "44  1.3021575000\n",
            "Status: Optimal\n",
            "45  0.0000000000\n",
            "Status: Infeasible\n",
            "46  0.0000000000\n",
            "Status: Optimal\n",
            "47  0.0000000000\n",
            "Status: Optimal\n",
            "48  0.0000000000\n",
            "[ 0.          0.          0.          0.          1.2973363   0.\n",
            "  0.          2.2302996   0.          0.          0.09541116  0.\n",
            "  0.84925061  0.60054076  0.          0.          0.98003537  0.\n",
            " 82.546222    4.6937316   0.8943105   0.21077315  0.          0.\n",
            "  0.          0.          0.          0.          0.          1.1568149\n",
            "  1.1238347   0.          0.          0.          0.          0.\n",
            "  0.          0.         51.765124    0.          1.7697455   0.\n",
            "  0.          1.3021575   0.          0.          0.          0.        ]\n"
          ],
          "name": "stdout"
        }
      ]
    },
    {
      "cell_type": "code",
      "metadata": {
        "colab": {
          "base_uri": "https://localhost:8080/"
        },
        "id": "w71lrq2HAYzn",
        "outputId": "5a255274-5801-46a3-b520-651175d45818"
      },
      "source": [
        "print(alpha_g)"
      ],
      "execution_count": null,
      "outputs": [
        {
          "output_type": "stream",
          "text": [
            "[ 0.          0.          0.          0.          1.2973363   0.\n",
            "  0.          2.2302996   0.          0.          0.09541116  0.\n",
            "  0.84925061  0.60054076  0.          0.          0.98003537  0.\n",
            " 82.546222    4.6937316   0.8943105   0.21077315  0.          0.\n",
            "  0.          0.          0.          0.          0.          1.1568149\n",
            "  1.1238347   0.          0.          0.          0.          0.\n",
            "  0.          0.         51.765124    0.          1.7697455   0.\n",
            "  0.          1.3021575   0.          0.          0.          0.        ]\n"
          ],
          "name": "stdout"
        }
      ]
    },
    {
      "cell_type": "markdown",
      "metadata": {
        "id": "sOZOjnbcWYH0"
      },
      "source": [
        "## GMP(each state)"
      ]
    },
    {
      "cell_type": "code",
      "metadata": {
        "id": "VJTQ8frhJbMc",
        "colab": {
          "base_uri": "https://localhost:8080/"
        },
        "outputId": "8cf447c5-d6ae-43d3-84b2-df5a1b80012c"
      },
      "source": [
        "MP_g = np.zeros(num)\n",
        "for r in range(num):\n",
        "    MP_g[r] = g_Y_g * max_Y * alpha_g[r] / max_X\n",
        "print(MP_g)"
      ],
      "execution_count": null,
      "outputs": [
        {
          "output_type": "stream",
          "text": [
            "[  0.           0.           0.           0.           1.89096868\n",
            "   0.           0.           3.25083533   0.           0.\n",
            "   0.1390692    0.           1.23784889   0.87533492   0.\n",
            "   0.           1.42847786   0.         120.3175462    6.84147929\n",
            "   1.30352719   0.30721828   0.           0.           0.\n",
            "   0.           0.           0.           0.           1.68614779\n",
            "   1.63807659   0.           0.           0.           0.\n",
            "   0.           0.           0.          75.45169903   0.\n",
            "   2.57954187   0.           0.           1.89799595   0.\n",
            "   0.           0.           0.        ]\n"
          ],
          "name": "stdout"
        }
      ]
    },
    {
      "cell_type": "markdown",
      "metadata": {
        "id": "e-RoadTsJX-0"
      },
      "source": [
        "# DMP -- Bad Output"
      ]
    },
    {
      "cell_type": "markdown",
      "metadata": {
        "id": "Go2zjzfeqpFN"
      },
      "source": [
        "## v(alpha)"
      ]
    },
    {
      "cell_type": "code",
      "metadata": {
        "id": "jchMA0hBWdVn",
        "colab": {
          "base_uri": "https://localhost:8080/"
        },
        "outputId": "6dd4f3f5-5235-4218-b474-db80020e897d"
      },
      "source": [
        "g_Y_b = 0\n",
        "g_B_b = [0.048, 0.508, 0.444]\n",
        "# g_B_b = [0.045, 0.631, 0.324]\n",
        "def BMP(r):\n",
        "    prob_BMP = LpProblem(\"BMP\", LpMinimize)\n",
        "\n",
        "    u_0_b = LpVariable(\"u_0_b\", lowBound=None)\n",
        "    v_b = LpVariable(\"v_b\", lowBound=0)\n",
        "    u_b = LpVariable(\"u_b\", lowBound=0)\n",
        "    w_b = LpVariable.dicts(\"w_b\", Q, lowBound=None)\n",
        "\n",
        "    # Objective Function\n",
        "    prob_BMP += v_b\n",
        "    # Constraints\n",
        "    prob_BMP += v_b * X[r]/max_X - u_b * Y_F[r]/max_Y_F + lpSum([w_b[q] * B_F[q][r]/max_B_F[q] for q in range(len(Q))]) + u_0_b == 0\n",
        "    for k in range(len(K)):\n",
        "        prob_BMP += v_b * X[k]/max_X - u_b * Y[k]/max_Y + lpSum([w_b[q] * B[q][k]/max_B[q] for q in range(len(Q))]) + u_0_b >= 0\n",
        "        prob_BMP += v_b * X[k]/max_X + u_0_b >= 0\n",
        "    prob_BMP += u_b * g_Y_b + lpSum([w_b[q] * g_B_b[q] for q in range(len(Q))]) == 1\n",
        "    prob_BMP.solve()\n",
        "\n",
        "    # 查看目前解的狀態\n",
        "    print(\"Status:\", LpStatus[prob_BMP.status])\n",
        "\n",
        "    # 印出解及目標值\n",
        "    # for v in prob_BMP.variables():\n",
        "    #     print(v.name, \"=\", v.varValue)\n",
        "    print(r+1,' %.10f'%value(prob_BMP.objective))\n",
        "    alpha_b[r] = value(prob_BMP.objective)\n",
        "BMP(0)"
      ],
      "execution_count": null,
      "outputs": [
        {
          "output_type": "stream",
          "text": [
            "Status: Optimal\n",
            "1  0.0000000000\n"
          ],
          "name": "stdout"
        }
      ]
    },
    {
      "cell_type": "code",
      "metadata": {
        "colab": {
          "base_uri": "https://localhost:8080/"
        },
        "id": "bF5mF-E8uUSZ",
        "outputId": "93832d62-1e11-45a1-b8c6-5826ba743141"
      },
      "source": [
        "for r in range(num):\n",
        "    BMP(r)\n",
        "print(alpha_b)"
      ],
      "execution_count": null,
      "outputs": [
        {
          "output_type": "stream",
          "text": [
            "Status: Optimal\n",
            "1  0.0000000000\n",
            "Status: Infeasible\n",
            "2  0.0000000000\n",
            "Status: Infeasible\n",
            "3  0.0000000000\n",
            "Status: Optimal\n",
            "4  0.0000000000\n",
            "Status: Optimal\n",
            "5  0.3035467200\n",
            "Status: Infeasible\n",
            "6  7.0430735000\n",
            "Status: Infeasible\n",
            "7  0.0000000000\n",
            "Status: Infeasible\n",
            "8  4.8738452000\n",
            "Status: Infeasible\n",
            "9  15.5877460000\n",
            "Status: Infeasible\n",
            "10  0.0000000000\n",
            "Status: Optimal\n",
            "11  0.0591094370\n",
            "Status: Optimal\n",
            "12  0.0000000000\n",
            "Status: Optimal\n",
            "13  1.4518486000\n",
            "Status: Infeasible\n",
            "14  2.8010518000\n",
            "Status: Optimal\n",
            "15  0.0000000000\n",
            "Status: Infeasible\n",
            "16  0.0000000000\n",
            "Status: Infeasible\n",
            "17  43.9241860000\n",
            "Status: Optimal\n",
            "18  0.0000000000\n",
            "Status: Infeasible\n",
            "19  3.4822823000\n",
            "Status: Optimal\n",
            "20  9.1559128000\n",
            "Status: Optimal\n",
            "21  4.6803749000\n",
            "Status: Infeasible\n",
            "22  2.7423490000\n",
            "Status: Infeasible\n",
            "23  0.0000000000\n",
            "Status: Infeasible\n",
            "24  15.8025240000\n",
            "Status: Optimal\n",
            "25  0.0000000000\n",
            "Status: Infeasible\n",
            "26  0.0000000000\n",
            "Status: Optimal\n",
            "27  0.0000000000\n",
            "Status: Optimal\n",
            "28  0.0000000000\n",
            "Status: Infeasible\n",
            "29  0.0000000000\n",
            "Status: Optimal\n",
            "30  2.5587966000\n",
            "Status: Optimal\n",
            "31  1.4122748000\n",
            "Status: Optimal\n",
            "32  0.0000000000\n",
            "Status: Infeasible\n",
            "33  44.4314390000\n",
            "Status: Optimal\n",
            "34  0.0000000000\n",
            "Status: Optimal\n",
            "35  0.0000000000\n",
            "Status: Infeasible\n",
            "36  0.0000000000\n",
            "Status: Infeasible\n",
            "37  0.0000000000\n",
            "Status: Infeasible\n",
            "38  0.0000000000\n",
            "Status: Infeasible\n",
            "39  7.7871341000\n",
            "Status: Infeasible\n",
            "40  0.0000000000\n",
            "Status: Infeasible\n",
            "41  3.4645020000\n",
            "Status: Optimal\n",
            "42  0.0000000000\n",
            "Status: Optimal\n",
            "43  0.0000000000\n",
            "Status: Optimal\n",
            "44  3.4534728000\n",
            "Status: Optimal\n",
            "45  0.0000000000\n",
            "Status: Infeasible\n",
            "46  0.0000000000\n",
            "Status: Optimal\n",
            "47  0.0000000000\n",
            "Status: Optimal\n",
            "48  0.0000000000\n",
            "[ 0.          0.          0.          0.          0.30354672  7.0430735\n",
            "  0.          4.8738452  15.587746    0.          0.05910944  0.\n",
            "  1.4518486   2.8010518   0.          0.         43.924186    0.\n",
            "  3.4822823   9.1559128   4.6803749   2.742349    0.         15.802524\n",
            "  0.          0.          0.          0.          0.          2.5587966\n",
            "  1.4122748   0.         44.431439    0.          0.          0.\n",
            "  0.          0.          7.7871341   0.          3.464502    0.\n",
            "  0.          3.4534728   0.          0.          0.          0.        ]\n"
          ],
          "name": "stdout"
        }
      ]
    },
    {
      "cell_type": "markdown",
      "metadata": {
        "id": "75I1TgkgrgNA"
      },
      "source": [
        "## BMP(each state)"
      ]
    },
    {
      "cell_type": "code",
      "metadata": {
        "colab": {
          "base_uri": "https://localhost:8080/"
        },
        "id": "Aso2m1xurgfl",
        "outputId": "1fe467c6-5e4c-4dfb-e479-2f084085fddc"
      },
      "source": [
        "MP_b = np.zeros((3, num))\n",
        "\n",
        "for q in range(num_B):\n",
        "    for r in range(num):\n",
        "        MP_b[q][r] = g_B_b[q] * max_B[q] * alpha_b[r] / max_X\n",
        "print(MP_b)"
      ],
      "execution_count": null,
      "outputs": [
        {
          "output_type": "stream",
          "text": [
            "[[0.00000000e+00 0.00000000e+00 0.00000000e+00 0.00000000e+00\n",
            "  2.17501117e-02 5.04659170e-01 0.00000000e+00 3.49226892e-01\n",
            "  1.11691280e+00 0.00000000e+00 4.23538380e-03 0.00000000e+00\n",
            "  1.04029684e-01 2.00704490e-01 0.00000000e+00 0.00000000e+00\n",
            "  3.14731108e+00 0.00000000e+00 2.49516876e-01 6.56050991e-01\n",
            "  3.35364115e-01 1.96498243e-01 0.00000000e+00 1.13230235e+00\n",
            "  0.00000000e+00 0.00000000e+00 0.00000000e+00 0.00000000e+00\n",
            "  0.00000000e+00 1.83346116e-01 1.01194092e-01 0.00000000e+00\n",
            "  3.18365741e+00 0.00000000e+00 0.00000000e+00 0.00000000e+00\n",
            "  0.00000000e+00 0.00000000e+00 5.57973537e-01 0.00000000e+00\n",
            "  2.48242859e-01 0.00000000e+00 0.00000000e+00 2.47452581e-01\n",
            "  0.00000000e+00 0.00000000e+00 0.00000000e+00 0.00000000e+00]\n",
            " [0.00000000e+00 0.00000000e+00 0.00000000e+00 0.00000000e+00\n",
            "  4.60803898e-04 1.06918491e-02 0.00000000e+00 7.39881778e-03\n",
            "  2.36632243e-02 0.00000000e+00 8.97320156e-05 0.00000000e+00\n",
            "  2.20400173e-03 4.25218098e-03 0.00000000e+00 0.00000000e+00\n",
            "  6.66798052e-02 0.00000000e+00 5.28633371e-03 1.38992782e-02\n",
            "  7.10511713e-03 4.16306627e-03 0.00000000e+00 2.39892715e-02\n",
            "  0.00000000e+00 0.00000000e+00 0.00000000e+00 0.00000000e+00\n",
            "  0.00000000e+00 3.88442164e-03 2.14392609e-03 0.00000000e+00\n",
            "  6.74498486e-02 0.00000000e+00 0.00000000e+00 0.00000000e+00\n",
            "  0.00000000e+00 0.00000000e+00 1.18213821e-02 0.00000000e+00\n",
            "  5.25934205e-03 0.00000000e+00 0.00000000e+00 5.24259900e-03\n",
            "  0.00000000e+00 0.00000000e+00 0.00000000e+00 0.00000000e+00]\n",
            " [0.00000000e+00 0.00000000e+00 0.00000000e+00 0.00000000e+00\n",
            "  1.43497661e-04 3.32951901e-03 0.00000000e+00 2.30404528e-03\n",
            "  7.36889891e-03 0.00000000e+00 2.79431976e-05 0.00000000e+00\n",
            "  6.86342052e-04 1.32415986e-03 0.00000000e+00 0.00000000e+00\n",
            "  2.07645728e-02 0.00000000e+00 1.64620249e-03 4.32833560e-03\n",
            "  2.21258478e-03 1.29640890e-03 0.00000000e+00 7.47043235e-03\n",
            "  0.00000000e+00 0.00000000e+00 0.00000000e+00 0.00000000e+00\n",
            "  0.00000000e+00 1.20963695e-03 6.67634066e-04 0.00000000e+00\n",
            "  2.10043699e-02 0.00000000e+00 0.00000000e+00 0.00000000e+00\n",
            "  0.00000000e+00 0.00000000e+00 3.68126373e-03 0.00000000e+00\n",
            "  1.63779709e-03 0.00000000e+00 0.00000000e+00 1.63258318e-03\n",
            "  0.00000000e+00 0.00000000e+00 0.00000000e+00 0.00000000e+00]]\n"
          ],
          "name": "stdout"
        }
      ]
    },
    {
      "cell_type": "markdown",
      "metadata": {
        "id": "jWc4Cnh8qhC1"
      },
      "source": [
        "# DSP"
      ]
    },
    {
      "cell_type": "markdown",
      "metadata": {
        "id": "qTPWf_iDePqs"
      },
      "source": [
        "## Each State"
      ]
    },
    {
      "cell_type": "code",
      "metadata": {
        "colab": {
          "base_uri": "https://localhost:8080/"
        },
        "id": "zzqxaA9aqg0I",
        "outputId": "ff213cf8-e3c3-4e68-f29b-71d14b95d41a"
      },
      "source": [
        "SP = np.zeros((3,num))\n",
        "\n",
        "for q in range(num_B):\n",
        "    for r in range(num):\n",
        "        if MP_g[r]==0:\n",
        "            SP[q][r] = 0\n",
        "        else:\n",
        "            SP[q][r] = Price[r] * MP_g[r] / MP_b[q][r]\n",
        "print(SP)"
      ],
      "execution_count": null,
      "outputs": [
        {
          "output_type": "stream",
          "text": [
            "[[0.00000000e+00 0.00000000e+00 0.00000000e+00 0.00000000e+00\n",
            "  1.31710873e+04 0.00000000e+00 0.00000000e+00 1.04449562e+03\n",
            "  0.00000000e+00 0.00000000e+00 1.09762548e+04 0.00000000e+00\n",
            "  9.43113632e+02 4.08156022e+02 0.00000000e+00 0.00000000e+00\n",
            "  3.69913074e+01 0.00000000e+00 7.40399918e+04 1.26197128e+03\n",
            "  4.91704394e+02 1.72488033e+02 0.00000000e+00 0.00000000e+00\n",
            "  0.00000000e+00 0.00000000e+00 0.00000000e+00 0.00000000e+00\n",
            "  0.00000000e+00 1.39974494e+03 2.25790491e+03 0.00000000e+00\n",
            "  0.00000000e+00 0.00000000e+00 0.00000000e+00 0.00000000e+00\n",
            "  0.00000000e+00 0.00000000e+00 1.30715598e+04 0.00000000e+00\n",
            "  9.76460883e+02 0.00000000e+00 0.00000000e+00 7.03685432e+02\n",
            "  0.00000000e+00 0.00000000e+00 0.00000000e+00 0.00000000e+00]\n",
            " [0.00000000e+00 0.00000000e+00 0.00000000e+00 0.00000000e+00\n",
            "  6.21680116e+05 0.00000000e+00 0.00000000e+00 4.93005736e+04\n",
            "  0.00000000e+00 0.00000000e+00 5.18083223e+05 0.00000000e+00\n",
            "  4.45153067e+04 1.92651128e+04 0.00000000e+00 0.00000000e+00\n",
            "  1.74600317e+03 0.00000000e+00 3.49471456e+06 5.95655040e+04\n",
            "  2.32086264e+04 8.14149794e+03 0.00000000e+00 0.00000000e+00\n",
            "  0.00000000e+00 0.00000000e+00 0.00000000e+00 0.00000000e+00\n",
            "  0.00000000e+00 6.60684709e+04 1.06573934e+05 0.00000000e+00\n",
            "  0.00000000e+00 0.00000000e+00 0.00000000e+00 0.00000000e+00\n",
            "  0.00000000e+00 0.00000000e+00 6.16982380e+05 0.00000000e+00\n",
            "  4.60893091e+04 0.00000000e+00 0.00000000e+00 3.32142086e+04\n",
            "  0.00000000e+00 0.00000000e+00 0.00000000e+00 0.00000000e+00]\n",
            " [0.00000000e+00 0.00000000e+00 0.00000000e+00 0.00000000e+00\n",
            "  1.99635742e+06 0.00000000e+00 0.00000000e+00 1.58315448e+05\n",
            "  0.00000000e+00 0.00000000e+00 1.66368404e+06 0.00000000e+00\n",
            "  1.42948859e+05 6.18646953e+04 0.00000000e+00 0.00000000e+00\n",
            "  5.60681660e+03 0.00000000e+00 1.12223299e+07 1.91278493e+05\n",
            "  7.45282218e+04 2.61442170e+04 0.00000000e+00 0.00000000e+00\n",
            "  0.00000000e+00 0.00000000e+00 0.00000000e+00 0.00000000e+00\n",
            "  0.00000000e+00 2.12161011e+05 3.42233342e+05 0.00000000e+00\n",
            "  0.00000000e+00 0.00000000e+00 0.00000000e+00 0.00000000e+00\n",
            "  0.00000000e+00 0.00000000e+00 1.98127191e+06 0.00000000e+00\n",
            "  1.48003341e+05 0.00000000e+00 0.00000000e+00 1.06658441e+05\n",
            "  0.00000000e+00 0.00000000e+00 0.00000000e+00 0.00000000e+00]]\n"
          ],
          "name": "stdout"
        }
      ]
    },
    {
      "cell_type": "markdown",
      "metadata": {
        "id": "PY2okNzzeSOX"
      },
      "source": [
        "## Average"
      ]
    },
    {
      "cell_type": "code",
      "metadata": {
        "colab": {
          "base_uri": "https://localhost:8080/"
        },
        "id": "MGQkE2u5eScD",
        "outputId": "b4a7cc2b-e2a3-4b3c-8776-a0eab83a8bc1"
      },
      "source": [
        "metric_ton_to_ton = 1.10231131092\n",
        "\n",
        "DSP = np.zeros(num_B)\n",
        "DSP_numerator = np.zeros(num_B)\n",
        "DSP_denominator = np.zeros(num_B)\n",
        "\n",
        "for q in range(num_B):\n",
        "    for r in range(num):\n",
        "        if MP_b[q][r]!=0:\n",
        "            DSP_numerator[q] = DSP_numerator[q] + SP[q][r] * Y[r]\n",
        "            DSP_denominator[q] = DSP_denominator[q] + Y[r]\n",
        "    DSP[q] = DSP_numerator[q]/DSP_denominator[q]/metric_ton_to_ton\n",
        "print(DSP)"
      ],
      "execution_count": null,
      "outputs": [
        {
          "output_type": "stream",
          "text": [
            "[  1341.89172936  63337.77809639 203392.13062512]\n"
          ],
          "name": "stdout"
        }
      ]
    },
    {
      "cell_type": "markdown",
      "metadata": {
        "id": "KriPRIW1nrMn"
      },
      "source": [
        "# Export"
      ]
    },
    {
      "cell_type": "code",
      "metadata": {
        "colab": {
          "base_uri": "https://localhost:8080/"
        },
        "id": "2195w23pnrAP",
        "outputId": "5e60ae7d-c609-4b6f-fe7a-8515159eff1d"
      },
      "source": [
        "summary = np.concatenate((X.reshape((1,num)), Y.reshape((1,num)), B, Price.reshape((1,num)),\\\n",
        "                Eff.reshape((1,num)), Y_F.reshape((1,num)), B_F,\\\n",
        "                alpha_g.reshape((1,num)), MP_g.reshape((1,num)),\\\n",
        "                alpha_b.reshape((1,num)), MP_b,\\\n",
        "                SP))\n",
        "result = pd.DataFrame(summary,index=['Coal','Electricity','CO2','SO2','NOx','Price',\\\n",
        "                    'Eff','Electricity_F','CO2_F','SO2_F','NOx_F',\\\n",
        "                    'v(Good)','GMP',\\\n",
        "                    'v(Bad)','CO2_MP)','SO2_MP','NOx_MP',\\\n",
        "                    'CO2_SP','SO2_SP','NOx_SP']).T\n",
        "print(result)\n",
        "result.to_excel(writer, sheet_name=year)"
      ],
      "execution_count": null,
      "outputs": [
        {
          "output_type": "stream",
          "text": [
            "           Coal   Electricity  ...        SO2_SP        NOx_SP\n",
            "0      486750.0  5.582922e+05  ...  0.000000e+00  0.000000e+00\n",
            "1    23913177.0  4.730163e+07  ...  0.000000e+00  0.000000e+00\n",
            "2    19295415.0  3.322075e+07  ...  0.000000e+00  0.000000e+00\n",
            "3    22911006.0  4.266501e+07  ...  0.000000e+00  0.000000e+00\n",
            "4      290444.0  8.047596e+05  ...  6.216801e+05  1.996357e+06\n",
            "5    17769138.0  3.254485e+07  ...  0.000000e+00  0.000000e+00\n",
            "6      499319.0  8.249479e+05  ...  0.000000e+00  0.000000e+00\n",
            "7      397113.0  8.653842e+05  ...  4.930057e+04  1.583154e+05\n",
            "8    22835149.0  5.205369e+07  ...  0.000000e+00  0.000000e+00\n",
            "9    22759871.0  4.529511e+07  ...  0.000000e+00  0.000000e+00\n",
            "10     743893.0  1.511184e+06  ...  5.180832e+05  1.663684e+06\n",
            "11   20548980.0  3.373277e+07  ...  0.000000e+00  0.000000e+00\n",
            "12      18445.0  7.767127e+04  ...  4.451531e+04  1.429489e+05\n",
            "13   52197770.0  8.728239e+07  ...  1.926511e+04  6.186470e+04\n",
            "14   48560035.0  9.754874e+07  ...  0.000000e+00  0.000000e+00\n",
            "15   18198644.0  2.875228e+07  ...  0.000000e+00  0.000000e+00\n",
            "16   39213757.0  8.360196e+07  ...  1.746003e+03  5.606817e+03\n",
            "17   12632193.0  1.922102e+07  ...  0.000000e+00  0.000000e+00\n",
            "18    1248316.0  2.794889e+06  ...  3.494715e+06  1.122233e+07\n",
            "19    7450504.0  1.760329e+07  ...  5.956550e+04  1.912785e+05\n",
            "20      18887.0  7.910392e+04  ...  2.320863e+04  7.452822e+04\n",
            "21   29529977.0  5.289984e+07  ...  8.141498e+03  2.614422e+04\n",
            "22   16799805.0  2.795668e+07  ...  0.000000e+00  0.000000e+00\n",
            "23   42966689.0  7.240921e+07  ...  0.000000e+00  0.000000e+00\n",
            "24    6550473.0  1.074257e+07  ...  0.000000e+00  0.000000e+00\n",
            "25   10186850.0  1.557942e+07  ...  0.000000e+00  0.000000e+00\n",
            "26   19495782.0  4.923820e+07  ...  0.000000e+00  0.000000e+00\n",
            "27   22342245.0  2.739407e+07  ...  0.000000e+00  0.000000e+00\n",
            "28   15427283.0  2.492217e+07  ...  0.000000e+00  0.000000e+00\n",
            "29     543854.0  1.310999e+06  ...  6.606847e+04  2.121610e+05\n",
            "30    1060529.0  2.519106e+06  ...  1.065739e+05  3.422333e+05\n",
            "31   11913479.0  2.035563e+07  ...  0.000000e+00  0.000000e+00\n",
            "32    3445862.0  6.547864e+06  ...  0.000000e+00  0.000000e+00\n",
            "33    2220949.0  4.592054e+06  ...  0.000000e+00  0.000000e+00\n",
            "34   38485647.0  8.987905e+07  ...  0.000000e+00  0.000000e+00\n",
            "35   18933951.0  2.990595e+07  ...  0.000000e+00  0.000000e+00\n",
            "36    1853491.0  3.192593e+06  ...  0.000000e+00  0.000000e+00\n",
            "37   38126571.0  7.898563e+07  ...  0.000000e+00  0.000000e+00\n",
            "38   11751519.0  2.891431e+07  ...  6.169824e+05  1.981272e+06\n",
            "39    1780371.0  2.689216e+06  ...  0.000000e+00  0.000000e+00\n",
            "40   17746768.0  3.587458e+07  ...  4.608931e+04  1.480033e+05\n",
            "41  101657503.0  1.481737e+08  ...  0.000000e+00  0.000000e+00\n",
            "42   15312350.0  3.337669e+07  ...  0.000000e+00  0.000000e+00\n",
            "43    9281350.0  2.081858e+07  ...  3.321421e+04  1.066584e+05\n",
            "44    4486482.0  6.719928e+06  ...  0.000000e+00  0.000000e+00\n",
            "45   21334043.0  3.744926e+07  ...  0.000000e+00  0.000000e+00\n",
            "46   31918484.0  7.751465e+07  ...  0.000000e+00  0.000000e+00\n",
            "47   26492657.0  4.340865e+07  ...  0.000000e+00  0.000000e+00\n",
            "\n",
            "[48 rows x 20 columns]\n"
          ],
          "name": "stdout"
        }
      ]
    },
    {
      "cell_type": "code",
      "metadata": {
        "colab": {
          "base_uri": "https://localhost:8080/"
        },
        "id": "nWjl2sZyA6bB",
        "outputId": "13e77903-8bd8-46bc-d952-96f096568d0d"
      },
      "source": [
        "DSP_to_DF = pd.DataFrame(DSP,index=['CO2','SO2','NOx'],columns=[year]).T\n",
        "result_DSP = result_DSP.append(DSP_to_DF)\n",
        "print(result_DSP)"
      ],
      "execution_count": null,
      "outputs": [
        {
          "output_type": "stream",
          "text": [
            "               CO2           SO2           NOx\n",
            "2000    587.216608  7.132774e+03  2.691324e+04\n",
            "2001    596.683310  7.366975e+03  2.952502e+04\n",
            "2002    454.483929  5.798168e+03  2.109810e+04\n",
            "2003    625.793785  7.911528e+03  3.150223e+04\n",
            "2004   1316.500783  1.839889e+04  8.905255e+04\n",
            "2005    535.782338  7.449263e+03  3.819827e+04\n",
            "2006    750.550421  1.150445e+04  5.623096e+04\n",
            "2007   1125.618828  1.749776e+04  8.434777e+04\n",
            "2008    515.700949  9.615737e+03  3.939943e+04\n",
            "2009    296.839021  6.698689e+03  4.388137e+04\n",
            "2010    365.076080  9.134046e+03  5.113425e+04\n",
            "2011    718.875249  1.885752e+04  9.701965e+04\n",
            "2012    134.814643  5.614700e+03  1.824465e+04\n",
            "2013    469.944297  2.060888e+04  6.510810e+04\n",
            "2015    293.337995  1.514072e+04  4.946187e+04\n",
            "2016    800.778068  4.340779e+04  1.519720e+05\n",
            "2017    927.643954  4.917733e+04  1.808180e+05\n",
            "2018  25143.372062  1.422266e+06  4.540293e+06\n",
            "2019    618.282932  4.150791e+04  1.155130e+05\n",
            "2014   1341.891729  6.333778e+04  2.033921e+05\n"
          ],
          "name": "stdout"
        }
      ]
    },
    {
      "cell_type": "markdown",
      "metadata": {
        "id": "aICLVQn8G_qb"
      },
      "source": [
        "## Write to Excel"
      ]
    },
    {
      "cell_type": "code",
      "metadata": {
        "id": "awR40OnjEmJK"
      },
      "source": [
        "result_DSP.to_excel(writer, sheet_name=\"DSP\")\n",
        "writer.save()"
      ],
      "execution_count": null,
      "outputs": []
    }
  ]
}